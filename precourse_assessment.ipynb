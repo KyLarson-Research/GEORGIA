{
 "cells": [
  {
   "cell_type": "code",
   "execution_count": 1,
   "metadata": {},
   "outputs": [],
   "source": [
    "#Filename: precourse_assessment.ipynb\n",
    "#Author: Kyle C. Larson\n",
    "#License: GNU General Public License V3 \n",
    "#Purpose: to demonstrate linear algebra operations in python\n",
    "#/usr/local/opt/python@3.9/bin/python3.9\n",
    "# to solve a set of equations use AX=K where X = A^(-1) * K , A^(-1) being the inverse matrix of A"
   ]
  },
  {
   "cell_type": "code",
   "execution_count": 1,
   "metadata": {},
   "outputs": [
    {
     "name": "stdout",
     "output_type": "stream",
     "text": [
      "[[-2, 5], [16, 3]]\n",
      "Matrix([[-3/86, 5/86], [8/43, 1/43]])\n",
      "Matrix([[1], [3]])\n"
     ]
    }
   ],
   "source": [
    "import sympy as sp\n",
    "d = [[-2, 5], [16, 3]]\n",
    "D = sp.Matrix(d)\n",
    "print(d)\n",
    "print(D.inv())\n",
    "print(D.inv() * sp.Matrix([[13], [25]]))"
   ]
  },
  {
   "cell_type": "code",
   "execution_count": 2,
   "metadata": {},
   "outputs": [
    {
     "name": "stdout",
     "output_type": "stream",
     "text": [
      "Matrix([[-2], [0]])\n"
     ]
    }
   ],
   "source": [
    "#import sympy as sp\n",
    "e = [[5, -4], [-4, 5]]\n",
    "eK = [[-10], [8]]\n",
    "E = sp.Matrix(e)\n",
    "EK = sp.Matrix(eK)\n",
    "print(E.inv()*EK)"
   ]
  },
  {
   "cell_type": "code",
   "execution_count": 3,
   "metadata": {},
   "outputs": [
    {
     "name": "stdout",
     "output_type": "stream",
     "text": [
      "Matrix([[-10], [5]])\n"
     ]
    }
   ],
   "source": [
    "#import sympy as sp\n",
    "f = [[5, 12], [2, -3]]\n",
    "fK = [[10], [-35]]\n",
    "F = sp.Matrix(f)\n",
    "FK = sp.Matrix(fK)\n",
    "print(F.inv()*FK)"
   ]
  },
  {
   "cell_type": "code",
   "execution_count": 6,
   "metadata": {},
   "outputs": [
    {
     "name": "stdout",
     "output_type": "stream",
     "text": [
      "Matrix([[-4], [-2]])\n"
     ]
    }
   ],
   "source": [
    "#import sympy as sp\n",
    "def AinvK(a, k):\n",
    "    A = sp.Matrix(a)\n",
    "    K = sp.Matrix(k)\n",
    "    return A.inv() * K\n",
    "\n",
    "g = [[4, -9], [12, -5]]\n",
    "gk = [[2], [-38]]\n",
    "print(AinvK(g, gk))"
   ]
  },
  {
   "cell_type": "code",
   "execution_count": null,
   "metadata": {},
   "outputs": [],
   "source": []
  }
 ],
 "metadata": {
  "kernelspec": {
   "display_name": "Python 3",
   "language": "python",
   "name": "python3"
  },
  "language_info": {
   "codemirror_mode": {
    "name": "ipython",
    "version": 3
   },
   "file_extension": ".py",
   "mimetype": "text/x-python",
   "name": "python",
   "nbconvert_exporter": "python",
   "pygments_lexer": "ipython3",
   "version": "3.7.6"
  }
 },
 "nbformat": 4,
 "nbformat_minor": 4
}
