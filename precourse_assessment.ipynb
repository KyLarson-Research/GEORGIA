{
 "cells": [
  {
   "cell_type": "code",
   "execution_count": 1,
   "metadata": {},
   "outputs": [],
   "source": [
    "#Filename: precourse_assessment.ipynb\n",
    "#Author: Kyle C. Larson\n",
    "#License: GNU General Public License V3 \n",
    "#Purpose: to demonstrate linear algebra operations in python\n",
    "#/usr/local/opt/python@3.9/bin/python3.9\n",
    "# to solve a set of equations use AX=K where X = A^(-1) * K , A^(-1) being the inverse matrix of A"
   ]
  },
  {
   "cell_type": "code",
   "execution_count": 1,
   "metadata": {},
   "outputs": [
    {
     "name": "stdout",
     "output_type": "stream",
     "text": [
      "[[-2, 5], [16, 3]]\n",
      "Matrix([[-3/86, 5/86], [8/43, 1/43]])\n",
      "Matrix([[1], [3]])\n"
     ]
    }
   ],
   "source": [
    "import sympy as sp\n",
    "d = [[-2, 5], [16, 3]]\n",
    "D = sp.Matrix(d)\n",
    "print(d)\n",
    "print(D.inv())\n",
    "print(D.inv() * sp.Matrix([[13], [25]]))"
   ]
  },
  {
   "cell_type": "code",
   "execution_count": 2,
   "metadata": {},
   "outputs": [
    {
     "name": "stdout",
     "output_type": "stream",
     "text": [
      "Matrix([[-2], [0]])\n"
     ]
    }
   ],
   "source": [
    "#import sympy as sp\n",
    "e = [[5, -4], [-4, 5]]\n",
    "eK = [[-10], [8]]\n",
    "E = sp.Matrix(e)\n",
    "EK = sp.Matrix(eK)\n",
    "print(E.inv()*EK)"
   ]
  },
  {
   "cell_type": "code",
   "execution_count": 3,
   "metadata": {},
   "outputs": [
    {
     "name": "stdout",
     "output_type": "stream",
     "text": [
      "Matrix([[-10], [5]])\n"
     ]
    }
   ],
   "source": [
    "#import sympy as sp\n",
    "f = [[5, 12], [2, -3]]\n",
    "fK = [[10], [-35]]\n",
    "F = sp.Matrix(f)\n",
    "FK = sp.Matrix(fK)\n",
    "print(F.inv()*FK)"
   ]
  },
  {
   "cell_type": "code",
   "execution_count": 2,
   "metadata": {},
   "outputs": [
    {
     "name": "stdout",
     "output_type": "stream",
     "text": [
      "Matrix([[20], [25], [5000]])\n"
     ]
    }
   ],
   "source": [
    "import sympy as sp\n",
    "def AinvK(a, k):\n",
    "    A = sp.Matrix(a)\n",
    "    K = sp.Matrix(k)\n",
    "    return A.inv() * K\n",
    "\n",
    "g = [[1000, 800, 1], [800, 1000, 1], [1500, 500, 1]]\n",
    "gk = [[45000], [46000], [47500]]\n",
    "print(AinvK(g, gk))"
   ]
  },
  {
   "cell_type": "code",
   "execution_count": 3,
   "metadata": {},
   "outputs": [
    {
     "name": "stdout",
     "output_type": "stream",
     "text": [
      "[1, 2, 3]\n"
     ]
    }
   ],
   "source": [
    "sales = {'cn':[1, 2, 3]}\n",
    "print(sales['cn'])"
   ]
  },
  {
   "cell_type": "code",
   "execution_count": 4,
   "metadata": {},
   "outputs": [
    {
     "name": "stdout",
     "output_type": "stream",
     "text": [
      "0.2\n"
     ]
    }
   ],
   "source": [
    "print(int(\"20\")*00.01)\n"
   ]
  },
  {
   "cell_type": "code",
   "execution_count": 6,
   "metadata": {},
   "outputs": [
    {
     "ename": "SyntaxError",
     "evalue": "invalid syntax (<ipython-input-6-e0fdaf43aead>, line 7)",
     "output_type": "error",
     "traceback": [
      "\u001b[1;36m  File \u001b[1;32m\"<ipython-input-6-e0fdaf43aead>\"\u001b[1;36m, line \u001b[1;32m7\u001b[0m\n\u001b[1;33m    else c not in inp.lower():\u001b[0m\n\u001b[1;37m         ^\u001b[0m\n\u001b[1;31mSyntaxError\u001b[0m\u001b[1;31m:\u001b[0m invalid syntax\n"
     ]
    }
   ],
   "source": [
    "qc  = ['db', 'hd', 'h']\n",
    "\n",
    "def mqpcc(inp):\n",
    "    for c in qc:\n",
    "        if c in inp.lower():\n",
    "            return 1\n",
    "        else c not in inp.lower():\n",
    "            return 0"
   ]
  },
  {
   "cell_type": "code",
   "execution_count": 7,
   "metadata": {},
   "outputs": [],
   "source": [
    "qc  = ['db', 'hd', 'h']\n",
    "\n",
    "def mqpcc(inp):\n",
    "    if not type(inp)==str:\n",
    "        return 0\n",
    "    elif inp.lower() in qc:\n",
    "        return 1\n",
    "    else:\n",
    "        return 0\n",
    "#no error"
   ]
  },
  {
   "cell_type": "code",
   "execution_count": null,
   "metadata": {},
   "outputs": [],
   "source": []
  }
 ],
 "metadata": {
  "kernelspec": {
   "display_name": "Python 3",
   "language": "python",
   "name": "python3"
  },
  "language_info": {
   "codemirror_mode": {
    "name": "ipython",
    "version": 3
   },
   "file_extension": ".py",
   "mimetype": "text/x-python",
   "name": "python",
   "nbconvert_exporter": "python",
   "pygments_lexer": "ipython3",
   "version": "3.7.6"
  }
 },
 "nbformat": 4,
 "nbformat_minor": 4
}
