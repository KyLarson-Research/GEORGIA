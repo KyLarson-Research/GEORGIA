{
 "cells": [
  {
   "cell_type": "code",
   "execution_count": 5,
   "metadata": {},
   "outputs": [],
   "source": [
    "#File Name: Precourse_01.ipynb\n",
    "#Author: Kyle C Larson 11/6/2020\n",
    "def basic_op(op, num1, num2):\n",
    "    try: #test the numbers to ensure they are numbers\n",
    "        float(num1)\n",
    "        float(num2)\n",
    "    except:\n",
    "        raise ValueError(\"accepts args[1,2] of float, float\")\n",
    "    if (op == '+'):\n",
    "        return num1 + num2\n",
    "    elif (op == '-'):\n",
    "        return num1 - num2\n",
    "    elif (op == '*'):\n",
    "        return num1 * num2\n",
    "    elif (op == '/'):\n",
    "        return num1 / num2\n",
    "    else:\n",
    "        raise ValueError(\"accepts args[0]: op '+','-','*'and '/'\")"
   ]
  },
  {
   "cell_type": "code",
   "execution_count": 8,
   "metadata": {},
   "outputs": [],
   "source": [
    "def odd_or_even(num):\n",
    "    sum =0\n",
    "    for n in num:\n",
    "        sum = sum+n\n",
    "    if (sum%2==0):\n",
    "        return 'even'\n",
    "    else: \n",
    "        return 'odd'"
   ]
  },
  {
   "cell_type": "code",
   "execution_count": null,
   "metadata": {},
   "outputs": [],
   "source": [
    "def positive_sum(arr):\n",
    "    # Your code here\n",
    "    sum =0\n",
    "    for n in arr:\n",
    "        if (n > 0):\n",
    "            sum = sum+n\n",
    "    return sum"
   ]
  },
  {
   "cell_type": "code",
   "execution_count": null,
   "metadata": {},
   "outputs": [],
   "source": [
    "def repeat_str(repeat, string):\n",
    "    out = string*repeat\n",
    "    return out"
   ]
  },
  {
   "cell_type": "code",
   "execution_count": null,
   "metadata": {},
   "outputs": [],
   "source": [
    "def minimum(arr):\n",
    "    #your code here...\n",
    "    min = arr[0]\n",
    "    for n in arr:\n",
    "        if (n<min):\n",
    "            min = n\n",
    "    return min\n",
    "\n",
    "def maximum(arr):\n",
    "    #...and here\n",
    "    max = arr[0]\n",
    "    for n in arr:\n",
    "        if (n>max):\n",
    "            max = n\n",
    "    return max"
   ]
  },
  {
   "cell_type": "code",
   "execution_count": null,
   "metadata": {},
   "outputs": [],
   "source": [
    "def find_needle(haystack):\n",
    "    # your code here\n",
    "    for item in haystack:\n",
    "        if (item=='needle'):\n",
    "            return 'found the needle at position ' + str(haystack.index(item))"
   ]
  },
  {
   "cell_type": "code",
   "execution_count": 19,
   "metadata": {},
   "outputs": [],
   "source": [
    "def solution(string):\n",
    "    out = ''\n",
    "    for c in string:\n",
    "        out = c+out\n",
    "    return out"
   ]
  },
  {
   "cell_type": "code",
   "execution_count": 20,
   "metadata": {},
   "outputs": [
    {
     "data": {
      "text/plain": [
       "'olleh'"
      ]
     },
     "execution_count": 20,
     "metadata": {},
     "output_type": "execute_result"
    }
   ],
   "source": [
    "solution('hello')"
   ]
  },
  {
   "cell_type": "code",
   "execution_count": null,
   "metadata": {},
   "outputs": [],
   "source": [
    "def sum_two_smallest_numbers(numbers):\n",
    "    min1 = numbers[0]\n",
    "    \n",
    "    for n in numbers:#get min 1\n",
    "        if (n < min1):\n",
    "            min1 = n\n",
    "    numbers.pop(numbers.index(min1)) #remove min 1\n",
    "    min2 = numbers[0]\n",
    "    for n in numbers: #get min 2\n",
    "        if (n < min2):\n",
    "            min2 = n\n",
    "    return min1+min2"
   ]
  },
  {
   "cell_type": "code",
   "execution_count": 21,
   "metadata": {},
   "outputs": [
    {
     "name": "stdout",
     "output_type": "stream",
     "text": [
      "3 1\n"
     ]
    }
   ],
   "source": [
    "def minimum(arr):\n",
    "    #your code here...\n",
    "    min = arr[0]\n",
    "    for n in arr:\n",
    "        if (n<min):\n",
    "            min = n\n",
    "    return min\n",
    "\n",
    "def maximum(arr):\n",
    "    #...and here\n",
    "    max = arr[0]\n",
    "    for n in arr:\n",
    "        if (n>max):\n",
    "            max = n\n",
    "    return max\n",
    "\n",
    "def high_and_low(numbers):\n",
    "    # ...\n",
    "    out = ''\n",
    "    numbers_list = []\n",
    "    #get the first number\n",
    "    for c in numbers.split(' '):\n",
    "        numbers_list.append(int(c))\n",
    "    \n",
    "    return str(maximum(numbers_list))+' '+str(minimum(numbers_list))\n",
    "\n",
    "print(high_and_low('1 2 3'))"
   ]
  },
  {
   "cell_type": "code",
   "execution_count": 32,
   "metadata": {},
   "outputs": [
    {
     "name": "stdout",
     "output_type": "stream",
     "text": [
      "1\n",
      "1\n",
      "5\n",
      "1\n",
      "-4\n",
      "2\n",
      "7\n",
      "3\n",
      "3\n"
     ]
    }
   ],
   "source": [
    "def pairs(ar):\n",
    "    i=0\n",
    "    count =0\n",
    "    while( i <len(ar)-1 ):\n",
    "        if(((ar[i]+1 == ar[i+1]) or (ar[i] == ar[i+1]+1)) ):\n",
    "            count=count+1\n",
    "        print(ar[i])\n",
    "        print(count)\n",
    "        i = i+2\n",
    "        \n",
    "    return count\n",
    "print(pairs([1,2,5,8,-4,-3,7,6,5]))"
   ]
  },
  {
   "cell_type": "code",
   "execution_count": 43,
   "metadata": {},
   "outputs": [
    {
     "name": "stdout",
     "output_type": "stream",
     "text": [
      "[3, 2, 1, 1]\n"
     ]
    }
   ],
   "source": [
    "def sqInRect(l, w):\n",
    "    if(l==w):\n",
    "        return None\n",
    "    t=0\n",
    "    square =[]\n",
    "    while( l > 0):\n",
    "        if(l==w):\n",
    "            square.append(w)\n",
    "            return square\n",
    "        if (w>l):#orient the rectangle by swapping length and width\n",
    "            t=l\n",
    "            l=w\n",
    "            w=t\n",
    "        l = l - w   \n",
    "        square.append(w)\n",
    "    \n",
    "\n",
    "print(sqInRect(5,3))"
   ]
  },
  {
   "cell_type": "code",
   "execution_count": 34,
   "metadata": {},
   "outputs": [
    {
     "name": "stdout",
     "output_type": "stream",
     "text": [
      "[3, 5]\n"
     ]
    }
   ],
   "source": [
    "def swap(l, w):\n",
    "    t=l\n",
    "    l=w\n",
    "    w=t\n",
    "    return [l, w]\n",
    "\n",
    "print(swap(5, 3))"
   ]
  },
  {
   "cell_type": "code",
   "execution_count": null,
   "metadata": {},
   "outputs": [],
   "source": []
  }
 ],
 "metadata": {
  "kernelspec": {
   "display_name": "Python 3",
   "language": "python",
   "name": "python3"
  },
  "language_info": {
   "codemirror_mode": {
    "name": "ipython",
    "version": 3
   },
   "file_extension": ".py",
   "mimetype": "text/x-python",
   "name": "python",
   "nbconvert_exporter": "python",
   "pygments_lexer": "ipython3",
   "version": "3.7.6"
  }
 },
 "nbformat": 4,
 "nbformat_minor": 4
}
